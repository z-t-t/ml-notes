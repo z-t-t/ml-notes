{
 "cells": [
  {
   "cell_type": "code",
   "execution_count": 1,
   "id": "5cfa4bae",
   "metadata": {},
   "outputs": [
    {
     "name": "stdout",
     "output_type": "stream",
     "text": [
      "[[1 2]\n",
      " [3 4]]\n",
      "(2, 2)\n"
     ]
    }
   ],
   "source": [
    "import numpy as np\n",
    "b = np.array([[1, 2], [3, 4]])\n",
    "print(b)\n",
    "# [[1 2]\n",
    "#  [3 4]]\n",
    "print(b.shape)    # (2, 2)\n"
   ]
  },
  {
   "cell_type": "code",
   "execution_count": 2,
   "id": "8fc48783",
   "metadata": {},
   "outputs": [
    {
     "name": "stdout",
     "output_type": "stream",
     "text": [
      "6\n",
      "[[1 4 7]\n",
      " [2 5 8]\n",
      " [3 6 9]]\n",
      "[[ 30  36  42]\n",
      " [ 66  81  96]\n",
      " [102 126 150]]\n"
     ]
    }
   ],
   "source": [
    "import numpy as np\n",
    "\n",
    "matrix = np.array([\n",
    "    [1, 2, 3],\n",
    "    [4, 5, 6],\n",
    "    [7, 8, 9]\n",
    "])\n",
    "print(matrix[1, 2])        # 输出 6\n",
    "print(matrix.T)            # 转置\n",
    "print(matrix @ matrix)     # 矩阵乘法\n"
   ]
  },
  {
   "cell_type": "code",
   "execution_count": 10,
   "id": "8e19e0e9",
   "metadata": {},
   "outputs": [
    {
     "name": "stdout",
     "output_type": "stream",
     "text": [
      "[1.]\n"
     ]
    }
   ],
   "source": [
    "import numpy as np\n",
    "\n",
    "x=np.array([200,17])\n",
    "\n",
    "w1_1=np.array([1,2])\n",
    "b1_1=np.array([-1])\n",
    "z1_1=np.dot(w1_1,x)+b1_1\n",
    "a1_1=1/(1+np.exp(-z1_1))\n",
    "print(a1_1)"
   ]
  },
  {
   "cell_type": "code",
   "execution_count": 13,
   "id": "4b685fc3",
   "metadata": {},
   "outputs": [
    {
     "name": "stdout",
     "output_type": "stream",
     "text": [
      "[[ 1 -3  5]\n",
      " [ 2  4 -6]]\n"
     ]
    }
   ],
   "source": [
    "w=np.array([\n",
    "    [1,-3,5],\n",
    "    [2,4,-6]\n",
    "])\n",
    "print(w)"
   ]
  },
  {
   "cell_type": "code",
   "execution_count": null,
   "id": "f2d78008",
   "metadata": {},
   "outputs": [
    {
     "name": "stdout",
     "output_type": "stream",
     "text": [
      "[[1.00000000e+000 2.45261912e-231 1.00000000e+000]]\n"
     ]
    }
   ],
   "source": [
    "import numpy as np\n",
    "AT=np.array([[200,17]])\n",
    "W=np.array([\n",
    "    [1,-3,5],\n",
    "    [2,4,-6],\n",
    "    ])\n",
    "b=np.array([[-1,1,2]])\n",
    "def dense(AT,W,b):\n",
    "    Z=np.matmul(AT,W)+b\n",
    "    A_out=1/(1+np.exp(-Z))\n",
    "    return A_out\n",
    "\n",
    "print(dense(AT,W,b))"
   ]
  },
  {
   "cell_type": "code",
   "execution_count": 6,
   "id": "c22864dd",
   "metadata": {},
   "outputs": [
    {
     "ename": "NameError",
     "evalue": "name 'X' is not defined",
     "output_type": "error",
     "traceback": [
      "\u001b[31m---------------------------------------------------------------------------\u001b[39m",
      "\u001b[31mNameError\u001b[39m                                 Traceback (most recent call last)",
      "\u001b[36mCell\u001b[39m\u001b[36m \u001b[39m\u001b[32mIn[6]\u001b[39m\u001b[32m, line 13\u001b[39m\n\u001b[32m     11\u001b[39m \u001b[38;5;28;01mfrom\u001b[39;00m\u001b[38;5;250m \u001b[39m\u001b[34;01mtensorflow\u001b[39;00m\u001b[34;01m.\u001b[39;00m\u001b[34;01mkeras\u001b[39;00m\u001b[34;01m.\u001b[39;00m\u001b[34;01mlosses\u001b[39;00m\u001b[38;5;250m \u001b[39m\u001b[38;5;28;01mimport\u001b[39;00m BinaryCrossentropy\n\u001b[32m     12\u001b[39m model.compile(loss=BinaryCrossentropy())\n\u001b[32m---> \u001b[39m\u001b[32m13\u001b[39m model.fit(\u001b[43mX\u001b[49m,Y,epochs=\u001b[32m100\u001b[39m)\n",
      "\u001b[31mNameError\u001b[39m: name 'X' is not defined"
     ]
    }
   ],
   "source": [
    "# 60 -17_TensorFlow实现\n",
    "import tensorflow as tf\n",
    "from tensorflow.keras import Sequential\n",
    "from tensorflow.keras.layers import Dense\n",
    "\n",
    "model=Sequential([\n",
    "    Dense(units=25,activation='sigmoid'),\n",
    "    Dense(units=15, activation='sigmoid'),\n",
    "    Dense(units=1,activation='sigmoid')\n",
    "])\n",
    "from tensorflow.keras.losses import BinaryCrossentropy\n",
    "model.compile(loss=BinaryCrossentropy())\n",
    "model.fit(X,Y,epochs=100)"
   ]
  }
 ],
 "metadata": {
  "kernelspec": {
   "display_name": "ml (3.11.9)",
   "language": "python",
   "name": "python3"
  },
  "language_info": {
   "codemirror_mode": {
    "name": "ipython",
    "version": 3
   },
   "file_extension": ".py",
   "mimetype": "text/x-python",
   "name": "python",
   "nbconvert_exporter": "python",
   "pygments_lexer": "ipython3",
   "version": "3.11.9"
  }
 },
 "nbformat": 4,
 "nbformat_minor": 5
}
